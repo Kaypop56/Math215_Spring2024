{
  "nbformat": 4,
  "nbformat_minor": 0,
  "metadata": {
    "colab": {
      "provenance": []
    },
    "kernelspec": {
      "name": "python3",
      "display_name": "Python 3"
    },
    "language_info": {
      "name": "python"
    }
  },
  "cells": [
    {
      "cell_type": "markdown",
      "source": [
        "# Dictionary\n",
        "\n",
        "A `dictionary` in Python is a collection of *key-value pairs*, where each key is unique and is used to store and retrieve values.\n",
        "\n",
        "Dictionaries are **mutable**, which means they can be changed after their creation.\n",
        "\n",
        "They are written with curly brackets `{}`, containing keys and values separated by a colon `:`."
      ],
      "metadata": {
        "id": "Bfm_ViCJv1ZN"
      }
    },
    {
      "cell_type": "markdown",
      "source": [
        "### Example 1"
      ],
      "metadata": {
        "id": "R4s2Cht9vyB7"
      }
    },
    {
      "cell_type": "code",
      "source": [
        "# Creating an empty dictionary\n",
        "my_dict = {}\n",
        "\n",
        "# Creating a dictionary with initial values\n",
        "my_dict = {'name': 'Alex', 'age': 20, 'city': 'Chicago'}"
      ],
      "metadata": {
        "id": "tSXgoImqwVVV"
      },
      "execution_count": null,
      "outputs": []
    },
    {
      "cell_type": "code",
      "source": [
        "# Accessing a value by key\n",
        "name = my_dict['name']\n",
        "print(name)  # Output: John\n",
        "\n",
        "# Using get() to access a value\n",
        "age = my_dict['age']\n",
        "print(age)  # Output: 30"
      ],
      "metadata": {
        "id": "l3km7mbHwXDa"
      },
      "execution_count": null,
      "outputs": []
    },
    {
      "cell_type": "code",
      "source": [
        "# Adding a new key-value pair\n",
        "my_dict['email'] = 'example@luc.edu'\n",
        "\n",
        "# Updating an existing key\n",
        "my_dict['age'] = 31\n",
        "\n",
        "print(my_dict)"
      ],
      "metadata": {
        "id": "taLvWdsWwin1"
      },
      "execution_count": null,
      "outputs": []
    },
    {
      "cell_type": "code",
      "source": [
        "# Removing a key-value pair using del\n",
        "del my_dict['city']\n",
        "\n",
        "# Clearing all items from the dictionary\n",
        "my_dict.clear()"
      ],
      "metadata": {
        "id": "OULUakedw7Q6"
      },
      "execution_count": null,
      "outputs": []
    },
    {
      "cell_type": "markdown",
      "source": [
        "Support Dictionary Comprehension, just like List Comprehension"
      ],
      "metadata": {
        "id": "l8EUcet70U25"
      }
    },
    {
      "cell_type": "code",
      "source": [
        "# Creating a dictionary of squares\n",
        "squares = {i: i**2 for i in range(6)}\n",
        "print(squares)  # Output: {0: 0, 1: 1, 2: 4, 3: 9, 4: 16, 5: 25}"
      ],
      "metadata": {
        "id": "FhDNd5U50Muh"
      },
      "execution_count": null,
      "outputs": []
    },
    {
      "cell_type": "markdown",
      "source": [
        "### Example 2: iteration over a dictionary"
      ],
      "metadata": {
        "id": "O7DKF6fDxCcp"
      }
    },
    {
      "cell_type": "code",
      "source": [
        "# Iterating over keys\n",
        "for key in my_dict.keys():\n",
        "    print(key)\n",
        "\n",
        "print()\n",
        "\n",
        "# Iterating over values\n",
        "for value in my_dict.values():\n",
        "    print(value)\n",
        "\n",
        "print()\n",
        "\n",
        "# Iterating over key-value pairs\n",
        "for key, value in my_dict.items():\n",
        "    print(key, value)"
      ],
      "metadata": {
        "id": "S3q84KRmxH2G"
      },
      "execution_count": null,
      "outputs": []
    },
    {
      "cell_type": "markdown",
      "source": [
        "### Example 3: Dictionaries can store any type of data as a value, including numbers, strings, lists, and even other dictionaries (nested dictionaries)."
      ],
      "metadata": {
        "id": "-aYyUjEgy3YK"
      }
    },
    {
      "cell_type": "code",
      "source": [
        "database = {\n",
        "    'user1': {\n",
        "        'name': 'Alice',\n",
        "        'interests': ['reading', 'gardening', 'cycling']\n",
        "    },\n",
        "    'user2': {\n",
        "        'name': 'Bob',\n",
        "        'interests': ['painting', 'traveling']\n",
        "    }\n",
        "}"
      ],
      "metadata": {
        "id": "Sz7OVxk3zCnM"
      },
      "execution_count": null,
      "outputs": []
    },
    {
      "cell_type": "code",
      "source": [
        "# how to access user2's name?\n",
        "# code here\n",
        "\n",
        "\n",
        "# how to add \"coding\" to user1's interests? check after it's done\n",
        "# code here\n"
      ],
      "metadata": {
        "id": "bTbpcIZlzGV-"
      },
      "execution_count": null,
      "outputs": []
    },
    {
      "cell_type": "code",
      "source": [
        "# Adding a new user dynamically\n",
        "database['user3'] = {'name': 'Charlie', 'interests': ['music', 'hiking']}"
      ],
      "metadata": {
        "id": "k8uX_GxYzRqn"
      },
      "execution_count": null,
      "outputs": []
    },
    {
      "cell_type": "markdown",
      "source": [
        "### Example 4: Frequency Table for dice rolls"
      ],
      "metadata": {
        "id": "YzHnnIrI0iFO"
      }
    },
    {
      "cell_type": "code",
      "source": [
        "import random\n",
        "roll_freq = {}\n",
        "num_rolls = 100000\n",
        "for k in range(num_rolls):\n",
        "    result = random.randint(1,6) + random.randint(1, 6)\n",
        "    if result in roll_freq:\n",
        "        roll_freq[result] += 1\n",
        "    else:\n",
        "        roll_freq[result] = 1\n",
        "\n",
        "print(roll_freq)\n",
        "for r in roll_freq:\n",
        "    print(f'{r} occurred {roll_freq[r]} times.')\n",
        "\n",
        "print()\n",
        "\n",
        "\n"
      ],
      "metadata": {
        "id": "jErKknmw0nQx"
      },
      "execution_count": null,
      "outputs": []
    },
    {
      "cell_type": "markdown",
      "source": [
        "## Exercise 1: how to print the frequency table above in a sorted way?\n",
        "\n",
        "check out the `sorted()` function for lists"
      ],
      "metadata": {
        "id": "tj5iDpdb1jTo"
      }
    },
    {
      "cell_type": "code",
      "source": [
        "# your code here"
      ],
      "metadata": {
        "id": "vSD8HObV2V8V"
      },
      "execution_count": null,
      "outputs": []
    },
    {
      "cell_type": "markdown",
      "source": [
        "## Exercise 2: Dictionary for Polynomials"
      ],
      "metadata": {
        "id": "sfmdM3pKxkOD"
      }
    },
    {
      "cell_type": "code",
      "source": [
        "# Create p(x) = 3x^5 + 8.3x^2 + 4\n",
        "poly_1 = {}\n",
        "poly_1[5] = 3\n",
        "poly_1[2] = 8.3\n",
        "poly_1[0] = 4\n",
        "\n",
        "\n",
        "\n",
        "# Create p(x) = -6.5x^4 + 12 x^2 + 15\n",
        "poly_2 = {}\n",
        "poly_2[4] = -6.5\n",
        "poly_2[2] = 12\n",
        "poly_2[0] = 15\n",
        "\n",
        "print(poly_1)\n",
        "print(poly_2)"
      ],
      "metadata": {
        "id": "mm16mbKg3KRv"
      },
      "execution_count": null,
      "outputs": []
    },
    {
      "cell_type": "code",
      "source": [
        "def print_poly(p):\n",
        "    terms = [f'{p[k]:.1f} x^{k}' for k in sorted(p) ]\n",
        "    terms.reverse()\n",
        "    answer = '  +  '.join(terms)\n",
        "    print(answer)\n",
        "\n",
        "print_poly(poly_1)\n",
        "\n",
        "\n"
      ],
      "metadata": {
        "id": "U9orwLiP3NCe"
      },
      "execution_count": null,
      "outputs": []
    },
    {
      "cell_type": "markdown",
      "source": [
        "#### Task 3.1: modify the `print_poly` function so that the constant term doesn't print `x^0`"
      ],
      "metadata": {
        "id": "Whn9XmHq3kL4"
      }
    },
    {
      "cell_type": "markdown",
      "source": [
        "#### Task 3.2: Write a `eval_poly()` function to evaluate a given polynomial `p` at a given value `x`"
      ],
      "metadata": {
        "id": "pCElWctx3vgE"
      }
    },
    {
      "cell_type": "code",
      "source": [
        "def eval_poly(p, x):\n",
        "#  your code here\n",
        "\n",
        "\n",
        "\n",
        "\n",
        "# To test\n",
        "print(eval_poly(poly_1, -1))  # should be 9.3"
      ],
      "metadata": {
        "id": "X-ToVC1B4GOO"
      },
      "execution_count": null,
      "outputs": []
    },
    {
      "cell_type": "markdown",
      "source": [
        "#### Task 3.3: write the `add_polys()` function to add two polynomials together."
      ],
      "metadata": {
        "id": "aumzZfae4VBQ"
      }
    },
    {
      "cell_type": "code",
      "source": [
        "def add_polys(p1, p2):\n",
        "    # Add the polynomials stored in dictionaries p1 and p2\n",
        "    p3 = {}\n",
        "    # your code here\n",
        "\n",
        "\n",
        "\n",
        "    return p3\n",
        "\n",
        "# To test\n",
        "poly_3 = add_polys(poly_1, poly_2)\n",
        "print_poly(poly_3)  # should be 3x^5 - 6.5x^4 + 20.3 x^2 + 19"
      ],
      "metadata": {
        "id": "P62tVAZd4nNr"
      },
      "execution_count": null,
      "outputs": []
    },
    {
      "cell_type": "markdown",
      "source": [
        "Task 3.4: write the `deriv()` function to take derivative of the polynomial"
      ],
      "metadata": {
        "id": "jsnykgAM5EQP"
      }
    },
    {
      "cell_type": "code",
      "execution_count": null,
      "metadata": {
        "id": "Ux5Db4DNjMRC"
      },
      "outputs": [],
      "source": [
        "def deriv(p):\n",
        "    # return the derivative of p as a dictionary polynomial\n",
        "    dp = {}\n",
        "    # your code here\n",
        "\n",
        "\n",
        "    return dp\n",
        "\n",
        "# To test\n",
        "print_poly(deriv(add_polys(poly_1, poly_2)))\n"
      ]
    },
    {
      "cell_type": "markdown",
      "source": [
        "### Exercise 3: Letter frequency analysis of a piece of text"
      ],
      "metadata": {
        "id": "2h_buVjhxtyx"
      }
    },
    {
      "cell_type": "code",
      "source": [
        "letter_freq = {}\n",
        "\n",
        "text_passage = '''1 Introduction The New Jim Code Naming a child is serious business. And if you are not White in the United States, there is much more to it than personal preference.\n",
        "When my younger son was born I wanted to give him an Arabic name to reflect part of our family heritage. But it was not long after 9/11, so of course I hesitated. I already knew he\n",
        "would be profiled as a Black youth and adult, so, like most Black mothers, I had already started mentally sparring those who would try to harm my child, even before he was born. Did\n",
        "I really want to add another round to the fight? Well, the fact is, I am also very stubborn. If you tell me I should not do something, I take that as a dare. So I gave the child an\n",
        "Arabic first and middle name and noted on his birth announcement: “This guarantees he will be flagged anytime he tries to fly.” If you think I am being hyperbolic, keep in mind that\n",
        "names are racially coded. While they are one of the everyday tools we use to express individuality and connections, they are also markers interacting with numerous technologies, like\n",
        "airport screening systems and police risk assessments, as forms of data. Depending on one’s name, one is more likely to be detained by state actors in the name of “public safety.”\n",
        "Just as in naming a child, there are many everyday contexts – such as applying for jobs, or shopping – that employ emerging technologies, often to the detriment of those who are racially\n",
        "marked. This book explores how such technologies, which often pose as objective, scientific, or progressive, too often reinforce racism and other forms of inequity. Together, we will\n",
        "work to decode the powerful assumptions and values embedded in the material and digital architecture of our world. And we will be stubborn in our pursuit of a more just and equitable\n",
        "approach to tech – ignoring the voice in our head that says, “No way!” “Impossible!” “Not realistic!” But as activist and educator Mariame Kaba contends, “hope is a discipline.”\n",
        "1 Reality is something we create together, except that so few people have a genuine say in the world in which they are forced to live. Amid so much suffering and injustice, we cannot\n",
        "resign ourselves to this reality we have inherited. It is time to reimagine what is possible. So let’s get to work.\n",
        "Benjamin, Ruha. Race after Technology : Abolitionist Tools for the New Jim Code, Polity Press, 2019. ProQuest Ebook Central, http://ebookcentral.proquest.com/lib/luc/detail.action?docID=5820427.\n",
        "Created from luc on 2023-10-05 13:49:01.'''\n",
        "\n",
        "print(len(text_passage))\n",
        "\n",
        "text_passage = text_passage.lower()\n",
        "print(text_passage)\n",
        "\n",
        "# create alphabet\n",
        "alphabet = \"\"\n",
        "for i in range(ord(\"a\"), ord(\"z\") + 1):\n",
        "    alphabet += chr(i)\n",
        "print(f\"The alphabet is: {alphabet}\")\n",
        "\n",
        "# create an alphabetically sorted empty dictionary with comprehension\n",
        "letter_freq = {letter : 0 for letter in alphabet}\n",
        "print(letter_freq)\n",
        "\n",
        "for symbol in text_passage:\n",
        "    if symbol in alphabet:\n",
        "        letter_freq[symbol] += 1\n",
        "\n",
        "for letter in letter_freq.keys():\n",
        "    print(letter, letter_freq[letter])\n",
        "\n",
        "# Find the key with the largest value and print them out nicely\n",
        "# you code here\n",
        "\n",
        "\n",
        "\n"
      ],
      "metadata": {
        "id": "QNmM2Br2vzxt"
      },
      "execution_count": null,
      "outputs": []
    },
    {
      "cell_type": "code",
      "source": [
        "d = {'A':5, 'B':20, 'C':14}\n",
        "print(max(d, key = d.get))  # returns the key with the maximum value\n",
        "print(max(d))  # returns the maximum key"
      ],
      "metadata": {
        "id": "fs0hHJiLW2qb"
      },
      "execution_count": null,
      "outputs": []
    }
  ]
}